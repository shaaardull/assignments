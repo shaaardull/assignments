{
 "cells": [
  {
   "cell_type": "code",
   "execution_count": 1,
   "id": "df7a5289",
   "metadata": {},
   "outputs": [],
   "source": [
    "import numpy as np\n",
    "import pandas as pd\n",
    "import matplotlib.pyplot as plt\n",
    "%matplotlib inline\n",
    "import seaborn as sns\n",
    "sns.set()"
   ]
  },
  {
   "cell_type": "code",
   "execution_count": 2,
   "id": "a2f93a8c",
   "metadata": {},
   "outputs": [],
   "source": [
    "df_fico = pd.read_csv(\"fico.csv\")\n",
    "df_region = pd.read_csv(\"region.csv\")"
   ]
  },
  {
   "cell_type": "code",
   "execution_count": 3,
   "id": "39e6e5e2",
   "metadata": {},
   "outputs": [
    {
     "data": {
      "text/html": [
       "<div>\n",
       "<style scoped>\n",
       "    .dataframe tbody tr th:only-of-type {\n",
       "        vertical-align: middle;\n",
       "    }\n",
       "\n",
       "    .dataframe tbody tr th {\n",
       "        vertical-align: top;\n",
       "    }\n",
       "\n",
       "    .dataframe thead th {\n",
       "        text-align: right;\n",
       "    }\n",
       "</style>\n",
       "<table border=\"1\" class=\"dataframe\">\n",
       "  <thead>\n",
       "    <tr style=\"text-align: right;\">\n",
       "      <th></th>\n",
       "      <th>acct_id</th>\n",
       "      <th>FICO</th>\n",
       "    </tr>\n",
       "  </thead>\n",
       "  <tbody>\n",
       "    <tr>\n",
       "      <th>0</th>\n",
       "      <td>1</td>\n",
       "      <td>768</td>\n",
       "    </tr>\n",
       "    <tr>\n",
       "      <th>1</th>\n",
       "      <td>2</td>\n",
       "      <td>850</td>\n",
       "    </tr>\n",
       "    <tr>\n",
       "      <th>2</th>\n",
       "      <td>3</td>\n",
       "      <td>677</td>\n",
       "    </tr>\n",
       "    <tr>\n",
       "      <th>3</th>\n",
       "      <td>4</td>\n",
       "      <td>843</td>\n",
       "    </tr>\n",
       "    <tr>\n",
       "      <th>4</th>\n",
       "      <td>5</td>\n",
       "      <td>796</td>\n",
       "    </tr>\n",
       "    <tr>\n",
       "      <th>5</th>\n",
       "      <td>6</td>\n",
       "      <td>669</td>\n",
       "    </tr>\n",
       "    <tr>\n",
       "      <th>6</th>\n",
       "      <td>7</td>\n",
       "      <td>805</td>\n",
       "    </tr>\n",
       "    <tr>\n",
       "      <th>7</th>\n",
       "      <td>8</td>\n",
       "      <td>850</td>\n",
       "    </tr>\n",
       "    <tr>\n",
       "      <th>8</th>\n",
       "      <td>9</td>\n",
       "      <td>838</td>\n",
       "    </tr>\n",
       "    <tr>\n",
       "      <th>9</th>\n",
       "      <td>10</td>\n",
       "      <td>850</td>\n",
       "    </tr>\n",
       "  </tbody>\n",
       "</table>\n",
       "</div>"
      ],
      "text/plain": [
       "   acct_id FICO\n",
       "0        1  768\n",
       "1        2  850\n",
       "2        3  677\n",
       "3        4  843\n",
       "4        5  796\n",
       "5        6  669\n",
       "6        7  805\n",
       "7        8  850\n",
       "8        9  838\n",
       "9       10  850"
      ]
     },
     "execution_count": 3,
     "metadata": {},
     "output_type": "execute_result"
    }
   ],
   "source": [
    "df_fico.head(10)"
   ]
  },
  {
   "cell_type": "code",
   "execution_count": 4,
   "id": "2f3cadcb",
   "metadata": {},
   "outputs": [
    {
     "data": {
      "text/plain": [
       "(100013, 2)"
      ]
     },
     "execution_count": 4,
     "metadata": {},
     "output_type": "execute_result"
    }
   ],
   "source": [
    "df_fico.shape"
   ]
  },
  {
   "cell_type": "code",
   "execution_count": 5,
   "id": "ad7b10a2",
   "metadata": {},
   "outputs": [
    {
     "data": {
      "text/html": [
       "<div>\n",
       "<style scoped>\n",
       "    .dataframe tbody tr th:only-of-type {\n",
       "        vertical-align: middle;\n",
       "    }\n",
       "\n",
       "    .dataframe tbody tr th {\n",
       "        vertical-align: top;\n",
       "    }\n",
       "\n",
       "    .dataframe thead th {\n",
       "        text-align: right;\n",
       "    }\n",
       "</style>\n",
       "<table border=\"1\" class=\"dataframe\">\n",
       "  <thead>\n",
       "    <tr style=\"text-align: right;\">\n",
       "      <th></th>\n",
       "      <th>acct_id</th>\n",
       "    </tr>\n",
       "  </thead>\n",
       "  <tbody>\n",
       "    <tr>\n",
       "      <th>count</th>\n",
       "      <td>100013.000000</td>\n",
       "    </tr>\n",
       "    <tr>\n",
       "      <th>mean</th>\n",
       "      <td>49996.449842</td>\n",
       "    </tr>\n",
       "    <tr>\n",
       "      <th>std</th>\n",
       "      <td>28868.457180</td>\n",
       "    </tr>\n",
       "    <tr>\n",
       "      <th>min</th>\n",
       "      <td>1.000000</td>\n",
       "    </tr>\n",
       "    <tr>\n",
       "      <th>25%</th>\n",
       "      <td>24999.000000</td>\n",
       "    </tr>\n",
       "    <tr>\n",
       "      <th>50%</th>\n",
       "      <td>49994.000000</td>\n",
       "    </tr>\n",
       "    <tr>\n",
       "      <th>75%</th>\n",
       "      <td>74997.000000</td>\n",
       "    </tr>\n",
       "    <tr>\n",
       "      <th>max</th>\n",
       "      <td>100000.000000</td>\n",
       "    </tr>\n",
       "  </tbody>\n",
       "</table>\n",
       "</div>"
      ],
      "text/plain": [
       "             acct_id\n",
       "count  100013.000000\n",
       "mean    49996.449842\n",
       "std     28868.457180\n",
       "min         1.000000\n",
       "25%     24999.000000\n",
       "50%     49994.000000\n",
       "75%     74997.000000\n",
       "max    100000.000000"
      ]
     },
     "execution_count": 5,
     "metadata": {},
     "output_type": "execute_result"
    }
   ],
   "source": [
    "df_fico.describe()"
   ]
  },
  {
   "cell_type": "code",
   "execution_count": 6,
   "id": "8bc1c9b3",
   "metadata": {},
   "outputs": [
    {
     "data": {
      "text/plain": [
       "acct_id        0\n",
       "FICO       29615\n",
       "dtype: int64"
      ]
     },
     "execution_count": 6,
     "metadata": {},
     "output_type": "execute_result"
    }
   ],
   "source": [
    "df_fico.isna().sum()"
   ]
  },
  {
   "cell_type": "code",
   "execution_count": 7,
   "id": "fbb706de",
   "metadata": {},
   "outputs": [],
   "source": [
    "df_fico[\"FICO\"] = df_fico[\"FICO\"].replace([np.inf, -np.inf], np.nan)"
   ]
  },
  {
   "cell_type": "code",
   "execution_count": 8,
   "id": "5a52b9f8",
   "metadata": {},
   "outputs": [
    {
     "data": {
      "text/plain": [
       "190      2\n",
       "30504    2\n",
       "30508    2\n",
       "30503    2\n",
       "30505    2\n",
       "        ..\n",
       "70327    1\n",
       "72374    1\n",
       "66229    1\n",
       "68276    1\n",
       "2047     1\n",
       "Name: acct_id, Length: 100000, dtype: int64"
      ]
     },
     "execution_count": 8,
     "metadata": {},
     "output_type": "execute_result"
    }
   ],
   "source": [
    "df_fico.acct_id.value_counts()"
   ]
  },
  {
   "cell_type": "code",
   "execution_count": 9,
   "id": "d4eef32e",
   "metadata": {},
   "outputs": [
    {
     "data": {
      "text/plain": [
       "13"
      ]
     },
     "execution_count": 9,
     "metadata": {},
     "output_type": "execute_result"
    }
   ],
   "source": [
    "df_fico.duplicated().sum()"
   ]
  },
  {
   "cell_type": "code",
   "execution_count": 10,
   "id": "9c33377d",
   "metadata": {},
   "outputs": [
    {
     "data": {
      "text/html": [
       "<div>\n",
       "<style scoped>\n",
       "    .dataframe tbody tr th:only-of-type {\n",
       "        vertical-align: middle;\n",
       "    }\n",
       "\n",
       "    .dataframe tbody tr th {\n",
       "        vertical-align: top;\n",
       "    }\n",
       "\n",
       "    .dataframe thead th {\n",
       "        text-align: right;\n",
       "    }\n",
       "</style>\n",
       "<table border=\"1\" class=\"dataframe\">\n",
       "  <thead>\n",
       "    <tr style=\"text-align: right;\">\n",
       "      <th></th>\n",
       "      <th>acct_id</th>\n",
       "      <th>FICO</th>\n",
       "    </tr>\n",
       "  </thead>\n",
       "  <tbody>\n",
       "    <tr>\n",
       "      <th>140</th>\n",
       "      <td>140</td>\n",
       "      <td>752</td>\n",
       "    </tr>\n",
       "    <tr>\n",
       "      <th>190</th>\n",
       "      <td>189</td>\n",
       "      <td>745</td>\n",
       "    </tr>\n",
       "    <tr>\n",
       "      <th>192</th>\n",
       "      <td>190</td>\n",
       "      <td>828</td>\n",
       "    </tr>\n",
       "    <tr>\n",
       "      <th>194</th>\n",
       "      <td>191</td>\n",
       "      <td>752</td>\n",
       "    </tr>\n",
       "    <tr>\n",
       "      <th>196</th>\n",
       "      <td>192</td>\n",
       "      <td>850</td>\n",
       "    </tr>\n",
       "    <tr>\n",
       "      <th>30506</th>\n",
       "      <td>30501</td>\n",
       "      <td>773</td>\n",
       "    </tr>\n",
       "    <tr>\n",
       "      <th>30508</th>\n",
       "      <td>30502</td>\n",
       "      <td>798</td>\n",
       "    </tr>\n",
       "    <tr>\n",
       "      <th>30510</th>\n",
       "      <td>30503</td>\n",
       "      <td>820</td>\n",
       "    </tr>\n",
       "    <tr>\n",
       "      <th>30512</th>\n",
       "      <td>30504</td>\n",
       "      <td>NaN</td>\n",
       "    </tr>\n",
       "    <tr>\n",
       "      <th>30514</th>\n",
       "      <td>30505</td>\n",
       "      <td>820</td>\n",
       "    </tr>\n",
       "    <tr>\n",
       "      <th>30516</th>\n",
       "      <td>30506</td>\n",
       "      <td>NaN</td>\n",
       "    </tr>\n",
       "    <tr>\n",
       "      <th>30518</th>\n",
       "      <td>30507</td>\n",
       "      <td>NaN</td>\n",
       "    </tr>\n",
       "    <tr>\n",
       "      <th>30520</th>\n",
       "      <td>30508</td>\n",
       "      <td>850</td>\n",
       "    </tr>\n",
       "  </tbody>\n",
       "</table>\n",
       "</div>"
      ],
      "text/plain": [
       "       acct_id FICO\n",
       "140        140  752\n",
       "190        189  745\n",
       "192        190  828\n",
       "194        191  752\n",
       "196        192  850\n",
       "30506    30501  773\n",
       "30508    30502  798\n",
       "30510    30503  820\n",
       "30512    30504  NaN\n",
       "30514    30505  820\n",
       "30516    30506  NaN\n",
       "30518    30507  NaN\n",
       "30520    30508  850"
      ]
     },
     "execution_count": 10,
     "metadata": {},
     "output_type": "execute_result"
    }
   ],
   "source": [
    "df_fico.loc[df_fico.duplicated(), :]"
   ]
  },
  {
   "cell_type": "code",
   "execution_count": 11,
   "id": "4705346f",
   "metadata": {},
   "outputs": [],
   "source": [
    "df_fico.drop_duplicates(inplace=True)"
   ]
  },
  {
   "cell_type": "code",
   "execution_count": 12,
   "id": "59f30d94",
   "metadata": {},
   "outputs": [
    {
     "data": {
      "text/plain": [
       "(100000, 2)"
      ]
     },
     "execution_count": 12,
     "metadata": {},
     "output_type": "execute_result"
    }
   ],
   "source": [
    "df_fico.shape"
   ]
  },
  {
   "cell_type": "code",
   "execution_count": 13,
   "id": "abfa62c4",
   "metadata": {},
   "outputs": [
    {
     "data": {
      "text/plain": [
       "acct_id        0\n",
       "FICO       29612\n",
       "dtype: int64"
      ]
     },
     "execution_count": 13,
     "metadata": {},
     "output_type": "execute_result"
    }
   ],
   "source": [
    "df_fico.isnull().sum()"
   ]
  },
  {
   "cell_type": "code",
   "execution_count": 14,
   "id": "cc2c2d28",
   "metadata": {},
   "outputs": [],
   "source": [
    "#df_fico.FICO.apply(float.is_integer).all()\n",
    "#True"
   ]
  },
  {
   "cell_type": "code",
   "execution_count": 15,
   "id": "e43dca85",
   "metadata": {},
   "outputs": [],
   "source": [
    "df_fico[\"FICO\"] = df_fico[\"FICO\"].fillna(0)"
   ]
  },
  {
   "cell_type": "code",
   "execution_count": 16,
   "id": "6844f1bc",
   "metadata": {},
   "outputs": [
    {
     "data": {
      "text/plain": [
       "acct_id    0\n",
       "FICO       0\n",
       "dtype: int64"
      ]
     },
     "execution_count": 16,
     "metadata": {},
     "output_type": "execute_result"
    }
   ],
   "source": [
    "df_fico.isnull().sum()"
   ]
  },
  {
   "cell_type": "code",
   "execution_count": 17,
   "id": "06ebecc8",
   "metadata": {},
   "outputs": [
    {
     "data": {
      "text/plain": [
       "dtype('O')"
      ]
     },
     "execution_count": 17,
     "metadata": {},
     "output_type": "execute_result"
    }
   ],
   "source": [
    "df_fico.FICO.dtype"
   ]
  },
  {
   "cell_type": "code",
   "execution_count": 18,
   "id": "e6a53407",
   "metadata": {},
   "outputs": [
    {
     "data": {
      "text/html": [
       "<div>\n",
       "<style scoped>\n",
       "    .dataframe tbody tr th:only-of-type {\n",
       "        vertical-align: middle;\n",
       "    }\n",
       "\n",
       "    .dataframe tbody tr th {\n",
       "        vertical-align: top;\n",
       "    }\n",
       "\n",
       "    .dataframe thead th {\n",
       "        text-align: right;\n",
       "    }\n",
       "</style>\n",
       "<table border=\"1\" class=\"dataframe\">\n",
       "  <thead>\n",
       "    <tr style=\"text-align: right;\">\n",
       "      <th></th>\n",
       "      <th>acct_id</th>\n",
       "    </tr>\n",
       "    <tr>\n",
       "      <th>FICO</th>\n",
       "      <th></th>\n",
       "    </tr>\n",
       "  </thead>\n",
       "  <tbody>\n",
       "    <tr>\n",
       "      <th>0</th>\n",
       "      <td>29612</td>\n",
       "    </tr>\n",
       "    <tr>\n",
       "      <th>420</th>\n",
       "      <td>1</td>\n",
       "    </tr>\n",
       "    <tr>\n",
       "      <th>433</th>\n",
       "      <td>1</td>\n",
       "    </tr>\n",
       "    <tr>\n",
       "      <th>439</th>\n",
       "      <td>1</td>\n",
       "    </tr>\n",
       "    <tr>\n",
       "      <th>440</th>\n",
       "      <td>1</td>\n",
       "    </tr>\n",
       "    <tr>\n",
       "      <th>...</th>\n",
       "      <td>...</td>\n",
       "    </tr>\n",
       "    <tr>\n",
       "      <th>848</th>\n",
       "      <td>528</td>\n",
       "    </tr>\n",
       "    <tr>\n",
       "      <th>849</th>\n",
       "      <td>546</td>\n",
       "    </tr>\n",
       "    <tr>\n",
       "      <th>850</th>\n",
       "      <td>12059</td>\n",
       "    </tr>\n",
       "    <tr>\n",
       "      <th>AA</th>\n",
       "      <td>1</td>\n",
       "    </tr>\n",
       "    <tr>\n",
       "      <th>SSS</th>\n",
       "      <td>1</td>\n",
       "    </tr>\n",
       "  </tbody>\n",
       "</table>\n",
       "<p>378 rows × 1 columns</p>\n",
       "</div>"
      ],
      "text/plain": [
       "      acct_id\n",
       "FICO         \n",
       "0       29612\n",
       "420         1\n",
       "433         1\n",
       "439         1\n",
       "440         1\n",
       "...       ...\n",
       "848       528\n",
       "849       546\n",
       "850     12059\n",
       "AA          1\n",
       "SSS         1\n",
       "\n",
       "[378 rows x 1 columns]"
      ]
     },
     "execution_count": 18,
     "metadata": {},
     "output_type": "execute_result"
    }
   ],
   "source": [
    "df_fico.groupby('FICO').count()"
   ]
  },
  {
   "cell_type": "code",
   "execution_count": 19,
   "id": "0b655782",
   "metadata": {},
   "outputs": [],
   "source": [
    "df_fico = df_fico.replace(to_replace=[\"AA\",\"SSS\"], value=np.nan)"
   ]
  },
  {
   "cell_type": "code",
   "execution_count": 20,
   "id": "5907d1fd",
   "metadata": {},
   "outputs": [],
   "source": [
    "df_fico[\"FICO\"] = df_fico[\"FICO\"].apply(pd.to_numeric, errors='coerce', downcast='float')"
   ]
  },
  {
   "cell_type": "code",
   "execution_count": 21,
   "id": "3b94e358",
   "metadata": {},
   "outputs": [
    {
     "data": {
      "text/plain": [
       "dtype('float64')"
      ]
     },
     "execution_count": 21,
     "metadata": {},
     "output_type": "execute_result"
    }
   ],
   "source": [
    "df_fico[\"FICO\"].dtype"
   ]
  },
  {
   "cell_type": "code",
   "execution_count": 22,
   "id": "7cea1aa6",
   "metadata": {},
   "outputs": [
    {
     "data": {
      "text/plain": [
       "False    99998\n",
       "True         2\n",
       "Name: FICO, dtype: int64"
      ]
     },
     "execution_count": 22,
     "metadata": {},
     "output_type": "execute_result"
    }
   ],
   "source": [
    "df_fico[\"FICO\"].isna().value_counts()"
   ]
  },
  {
   "cell_type": "code",
   "execution_count": 23,
   "id": "7d7f9eba",
   "metadata": {},
   "outputs": [],
   "source": [
    "for i in df_fico[\"FICO\"]:\n",
    "    if i == np.nan:\n",
    "        print(\"found at position\",i)"
   ]
  },
  {
   "cell_type": "code",
   "execution_count": 24,
   "id": "440678ba",
   "metadata": {},
   "outputs": [],
   "source": [
    "df_fico[\"FICO\"] = pd.to_numeric(df_fico[\"FICO\"], downcast='integer')"
   ]
  },
  {
   "cell_type": "code",
   "execution_count": 25,
   "id": "f56e008e",
   "metadata": {},
   "outputs": [
    {
     "data": {
      "text/plain": [
       "dtype('float64')"
      ]
     },
     "execution_count": 25,
     "metadata": {},
     "output_type": "execute_result"
    }
   ],
   "source": [
    "df_fico[\"FICO\"].dtype"
   ]
  },
  {
   "cell_type": "code",
   "execution_count": 26,
   "id": "ff428e5e",
   "metadata": {},
   "outputs": [
    {
     "name": "stdout",
     "output_type": "stream",
     "text": [
      "0.0\n"
     ]
    }
   ],
   "source": [
    "print(df_fico[\"FICO\"][10])"
   ]
  },
  {
   "cell_type": "code",
   "execution_count": 27,
   "id": "5984e37d",
   "metadata": {},
   "outputs": [
    {
     "data": {
      "text/plain": [
       "acct_id    0\n",
       "FICO       2\n",
       "dtype: int64"
      ]
     },
     "execution_count": 27,
     "metadata": {},
     "output_type": "execute_result"
    }
   ],
   "source": [
    "df_fico.isnull().sum()"
   ]
  },
  {
   "cell_type": "code",
   "execution_count": 28,
   "id": "c1cfdf79",
   "metadata": {},
   "outputs": [
    {
     "data": {
      "text/html": [
       "<div>\n",
       "<style scoped>\n",
       "    .dataframe tbody tr th:only-of-type {\n",
       "        vertical-align: middle;\n",
       "    }\n",
       "\n",
       "    .dataframe tbody tr th {\n",
       "        vertical-align: top;\n",
       "    }\n",
       "\n",
       "    .dataframe thead th {\n",
       "        text-align: right;\n",
       "    }\n",
       "</style>\n",
       "<table border=\"1\" class=\"dataframe\">\n",
       "  <thead>\n",
       "    <tr style=\"text-align: right;\">\n",
       "      <th></th>\n",
       "      <th>acct_id</th>\n",
       "      <th>FICO</th>\n",
       "    </tr>\n",
       "  </thead>\n",
       "  <tbody>\n",
       "    <tr>\n",
       "      <th>0</th>\n",
       "      <td>1</td>\n",
       "      <td>768.0</td>\n",
       "    </tr>\n",
       "    <tr>\n",
       "      <th>1</th>\n",
       "      <td>2</td>\n",
       "      <td>850.0</td>\n",
       "    </tr>\n",
       "    <tr>\n",
       "      <th>2</th>\n",
       "      <td>3</td>\n",
       "      <td>677.0</td>\n",
       "    </tr>\n",
       "    <tr>\n",
       "      <th>3</th>\n",
       "      <td>4</td>\n",
       "      <td>843.0</td>\n",
       "    </tr>\n",
       "    <tr>\n",
       "      <th>4</th>\n",
       "      <td>5</td>\n",
       "      <td>796.0</td>\n",
       "    </tr>\n",
       "    <tr>\n",
       "      <th>...</th>\n",
       "      <td>...</td>\n",
       "      <td>...</td>\n",
       "    </tr>\n",
       "    <tr>\n",
       "      <th>100007</th>\n",
       "      <td>99995</td>\n",
       "      <td>0.0</td>\n",
       "    </tr>\n",
       "    <tr>\n",
       "      <th>100008</th>\n",
       "      <td>99996</td>\n",
       "      <td>0.0</td>\n",
       "    </tr>\n",
       "    <tr>\n",
       "      <th>100009</th>\n",
       "      <td>99997</td>\n",
       "      <td>0.0</td>\n",
       "    </tr>\n",
       "    <tr>\n",
       "      <th>100010</th>\n",
       "      <td>99998</td>\n",
       "      <td>0.0</td>\n",
       "    </tr>\n",
       "    <tr>\n",
       "      <th>100012</th>\n",
       "      <td>100000</td>\n",
       "      <td>0.0</td>\n",
       "    </tr>\n",
       "  </tbody>\n",
       "</table>\n",
       "<p>99998 rows × 2 columns</p>\n",
       "</div>"
      ],
      "text/plain": [
       "        acct_id   FICO\n",
       "0             1  768.0\n",
       "1             2  850.0\n",
       "2             3  677.0\n",
       "3             4  843.0\n",
       "4             5  796.0\n",
       "...         ...    ...\n",
       "100007    99995    0.0\n",
       "100008    99996    0.0\n",
       "100009    99997    0.0\n",
       "100010    99998    0.0\n",
       "100012   100000    0.0\n",
       "\n",
       "[99998 rows x 2 columns]"
      ]
     },
     "execution_count": 28,
     "metadata": {},
     "output_type": "execute_result"
    }
   ],
   "source": [
    "df_fico.dropna(axis=0)"
   ]
  },
  {
   "cell_type": "code",
   "execution_count": 29,
   "id": "51ab6f12",
   "metadata": {},
   "outputs": [
    {
     "data": {
      "text/plain": [
       "acct_id    0\n",
       "FICO       2\n",
       "dtype: int64"
      ]
     },
     "execution_count": 29,
     "metadata": {},
     "output_type": "execute_result"
    }
   ],
   "source": [
    "df_fico.isnull().sum()"
   ]
  },
  {
   "cell_type": "code",
   "execution_count": 30,
   "id": "f2f210f7",
   "metadata": {},
   "outputs": [
    {
     "data": {
      "text/plain": [
       "0         768.0\n",
       "1         850.0\n",
       "2         677.0\n",
       "3         843.0\n",
       "4         796.0\n",
       "          ...  \n",
       "100008      0.0\n",
       "100009      0.0\n",
       "100010      0.0\n",
       "100011      0.0\n",
       "100012      0.0\n",
       "Name: FICO, Length: 100000, dtype: float64"
      ]
     },
     "execution_count": 30,
     "metadata": {},
     "output_type": "execute_result"
    }
   ],
   "source": [
    "df_fico.FICO.replace(np.nan, 0)"
   ]
  },
  {
   "cell_type": "code",
   "execution_count": 31,
   "id": "9954cbcb",
   "metadata": {},
   "outputs": [
    {
     "data": {
      "text/plain": [
       "acct_id    0\n",
       "FICO       2\n",
       "dtype: int64"
      ]
     },
     "execution_count": 31,
     "metadata": {},
     "output_type": "execute_result"
    }
   ],
   "source": [
    "df_fico.isnull().sum()"
   ]
  },
  {
   "cell_type": "code",
   "execution_count": 32,
   "id": "a0d07a57",
   "metadata": {},
   "outputs": [
    {
     "data": {
      "text/plain": [
       "(55305593.0, 0.0, 850.0)"
      ]
     },
     "execution_count": 32,
     "metadata": {},
     "output_type": "execute_result"
    }
   ],
   "source": [
    "np.nansum(df_fico[\"FICO\"]), np.nanmin(df_fico[\"FICO\"]), np.nanmax(df_fico[\"FICO\"])"
   ]
  },
  {
   "cell_type": "code",
   "execution_count": 33,
   "id": "eb0b6dd1",
   "metadata": {},
   "outputs": [
    {
     "data": {
      "text/html": [
       "<div>\n",
       "<style scoped>\n",
       "    .dataframe tbody tr th:only-of-type {\n",
       "        vertical-align: middle;\n",
       "    }\n",
       "\n",
       "    .dataframe tbody tr th {\n",
       "        vertical-align: top;\n",
       "    }\n",
       "\n",
       "    .dataframe thead th {\n",
       "        text-align: right;\n",
       "    }\n",
       "</style>\n",
       "<table border=\"1\" class=\"dataframe\">\n",
       "  <thead>\n",
       "    <tr style=\"text-align: right;\">\n",
       "      <th></th>\n",
       "      <th>acct_id</th>\n",
       "      <th>FICO</th>\n",
       "    </tr>\n",
       "  </thead>\n",
       "  <tbody>\n",
       "    <tr>\n",
       "      <th>0</th>\n",
       "      <td>1.0</td>\n",
       "      <td>768.0</td>\n",
       "    </tr>\n",
       "    <tr>\n",
       "      <th>1</th>\n",
       "      <td>2.0</td>\n",
       "      <td>850.0</td>\n",
       "    </tr>\n",
       "    <tr>\n",
       "      <th>2</th>\n",
       "      <td>3.0</td>\n",
       "      <td>677.0</td>\n",
       "    </tr>\n",
       "    <tr>\n",
       "      <th>3</th>\n",
       "      <td>4.0</td>\n",
       "      <td>843.0</td>\n",
       "    </tr>\n",
       "    <tr>\n",
       "      <th>4</th>\n",
       "      <td>5.0</td>\n",
       "      <td>796.0</td>\n",
       "    </tr>\n",
       "    <tr>\n",
       "      <th>...</th>\n",
       "      <td>...</td>\n",
       "      <td>...</td>\n",
       "    </tr>\n",
       "    <tr>\n",
       "      <th>100008</th>\n",
       "      <td>99996.0</td>\n",
       "      <td>0.0</td>\n",
       "    </tr>\n",
       "    <tr>\n",
       "      <th>100009</th>\n",
       "      <td>99997.0</td>\n",
       "      <td>0.0</td>\n",
       "    </tr>\n",
       "    <tr>\n",
       "      <th>100010</th>\n",
       "      <td>99998.0</td>\n",
       "      <td>0.0</td>\n",
       "    </tr>\n",
       "    <tr>\n",
       "      <th>100011</th>\n",
       "      <td>99999.0</td>\n",
       "      <td>99999.0</td>\n",
       "    </tr>\n",
       "    <tr>\n",
       "      <th>100012</th>\n",
       "      <td>100000.0</td>\n",
       "      <td>0.0</td>\n",
       "    </tr>\n",
       "  </tbody>\n",
       "</table>\n",
       "<p>100000 rows × 2 columns</p>\n",
       "</div>"
      ],
      "text/plain": [
       "         acct_id     FICO\n",
       "0            1.0    768.0\n",
       "1            2.0    850.0\n",
       "2            3.0    677.0\n",
       "3            4.0    843.0\n",
       "4            5.0    796.0\n",
       "...          ...      ...\n",
       "100008   99996.0      0.0\n",
       "100009   99997.0      0.0\n",
       "100010   99998.0      0.0\n",
       "100011   99999.0  99999.0\n",
       "100012  100000.0      0.0\n",
       "\n",
       "[100000 rows x 2 columns]"
      ]
     },
     "execution_count": 33,
     "metadata": {},
     "output_type": "execute_result"
    }
   ],
   "source": [
    "df_fico.fillna(method='ffill', axis=1)"
   ]
  },
  {
   "cell_type": "code",
   "execution_count": 34,
   "id": "631fa632",
   "metadata": {},
   "outputs": [
    {
     "data": {
      "text/html": [
       "<div>\n",
       "<style scoped>\n",
       "    .dataframe tbody tr th:only-of-type {\n",
       "        vertical-align: middle;\n",
       "    }\n",
       "\n",
       "    .dataframe tbody tr th {\n",
       "        vertical-align: top;\n",
       "    }\n",
       "\n",
       "    .dataframe thead th {\n",
       "        text-align: right;\n",
       "    }\n",
       "</style>\n",
       "<table border=\"1\" class=\"dataframe\">\n",
       "  <thead>\n",
       "    <tr style=\"text-align: right;\">\n",
       "      <th></th>\n",
       "      <th>acct_id</th>\n",
       "      <th>FICO</th>\n",
       "    </tr>\n",
       "  </thead>\n",
       "  <tbody>\n",
       "    <tr>\n",
       "      <th>0</th>\n",
       "      <td>1</td>\n",
       "      <td>768.0</td>\n",
       "    </tr>\n",
       "    <tr>\n",
       "      <th>1</th>\n",
       "      <td>2</td>\n",
       "      <td>850.0</td>\n",
       "    </tr>\n",
       "    <tr>\n",
       "      <th>2</th>\n",
       "      <td>3</td>\n",
       "      <td>677.0</td>\n",
       "    </tr>\n",
       "    <tr>\n",
       "      <th>3</th>\n",
       "      <td>4</td>\n",
       "      <td>843.0</td>\n",
       "    </tr>\n",
       "    <tr>\n",
       "      <th>4</th>\n",
       "      <td>5</td>\n",
       "      <td>796.0</td>\n",
       "    </tr>\n",
       "    <tr>\n",
       "      <th>5</th>\n",
       "      <td>6</td>\n",
       "      <td>669.0</td>\n",
       "    </tr>\n",
       "    <tr>\n",
       "      <th>6</th>\n",
       "      <td>7</td>\n",
       "      <td>805.0</td>\n",
       "    </tr>\n",
       "    <tr>\n",
       "      <th>7</th>\n",
       "      <td>8</td>\n",
       "      <td>850.0</td>\n",
       "    </tr>\n",
       "    <tr>\n",
       "      <th>8</th>\n",
       "      <td>9</td>\n",
       "      <td>838.0</td>\n",
       "    </tr>\n",
       "    <tr>\n",
       "      <th>9</th>\n",
       "      <td>10</td>\n",
       "      <td>850.0</td>\n",
       "    </tr>\n",
       "    <tr>\n",
       "      <th>10</th>\n",
       "      <td>11</td>\n",
       "      <td>0.0</td>\n",
       "    </tr>\n",
       "    <tr>\n",
       "      <th>11</th>\n",
       "      <td>12</td>\n",
       "      <td>794.0</td>\n",
       "    </tr>\n",
       "    <tr>\n",
       "      <th>12</th>\n",
       "      <td>13</td>\n",
       "      <td>832.0</td>\n",
       "    </tr>\n",
       "    <tr>\n",
       "      <th>13</th>\n",
       "      <td>14</td>\n",
       "      <td>777.0</td>\n",
       "    </tr>\n",
       "    <tr>\n",
       "      <th>14</th>\n",
       "      <td>15</td>\n",
       "      <td>809.0</td>\n",
       "    </tr>\n",
       "    <tr>\n",
       "      <th>15</th>\n",
       "      <td>16</td>\n",
       "      <td>793.0</td>\n",
       "    </tr>\n",
       "    <tr>\n",
       "      <th>16</th>\n",
       "      <td>17</td>\n",
       "      <td>746.0</td>\n",
       "    </tr>\n",
       "    <tr>\n",
       "      <th>17</th>\n",
       "      <td>18</td>\n",
       "      <td>0.0</td>\n",
       "    </tr>\n",
       "    <tr>\n",
       "      <th>18</th>\n",
       "      <td>19</td>\n",
       "      <td>781.0</td>\n",
       "    </tr>\n",
       "    <tr>\n",
       "      <th>19</th>\n",
       "      <td>20</td>\n",
       "      <td>812.0</td>\n",
       "    </tr>\n",
       "  </tbody>\n",
       "</table>\n",
       "</div>"
      ],
      "text/plain": [
       "    acct_id   FICO\n",
       "0         1  768.0\n",
       "1         2  850.0\n",
       "2         3  677.0\n",
       "3         4  843.0\n",
       "4         5  796.0\n",
       "5         6  669.0\n",
       "6         7  805.0\n",
       "7         8  850.0\n",
       "8         9  838.0\n",
       "9        10  850.0\n",
       "10       11    0.0\n",
       "11       12  794.0\n",
       "12       13  832.0\n",
       "13       14  777.0\n",
       "14       15  809.0\n",
       "15       16  793.0\n",
       "16       17  746.0\n",
       "17       18    0.0\n",
       "18       19  781.0\n",
       "19       20  812.0"
      ]
     },
     "execution_count": 34,
     "metadata": {},
     "output_type": "execute_result"
    }
   ],
   "source": [
    "df_fico.head(20)"
   ]
  },
  {
   "cell_type": "code",
   "execution_count": null,
   "id": "f261e8ac",
   "metadata": {},
   "outputs": [],
   "source": []
  },
  {
   "cell_type": "code",
   "execution_count": null,
   "id": "7b6240fe",
   "metadata": {},
   "outputs": [],
   "source": []
  },
  {
   "cell_type": "code",
   "execution_count": 35,
   "id": "e79e9170",
   "metadata": {},
   "outputs": [],
   "source": [
    "def mark_missing(x):\n",
    "    if x == 0.0:\n",
    "        return \"Missing\"\n",
    "    elif x == \"nan\":\n",
    "        return \"Missing\"\n",
    "    else:\n",
    "        return x"
   ]
  },
  {
   "cell_type": "code",
   "execution_count": 36,
   "id": "f712d435",
   "metadata": {},
   "outputs": [],
   "source": [
    "df_fico[\"FICO\"] = df_fico[\"FICO\"].apply(mark_missing)"
   ]
  },
  {
   "cell_type": "markdown",
   "id": "612f1535",
   "metadata": {},
   "source": [
    "# Q 1.1"
   ]
  },
  {
   "cell_type": "code",
   "execution_count": 37,
   "id": "fa76fb94",
   "metadata": {},
   "outputs": [
    {
     "data": {
      "text/html": [
       "<div>\n",
       "<style scoped>\n",
       "    .dataframe tbody tr th:only-of-type {\n",
       "        vertical-align: middle;\n",
       "    }\n",
       "\n",
       "    .dataframe tbody tr th {\n",
       "        vertical-align: top;\n",
       "    }\n",
       "\n",
       "    .dataframe thead th {\n",
       "        text-align: right;\n",
       "    }\n",
       "</style>\n",
       "<table border=\"1\" class=\"dataframe\">\n",
       "  <thead>\n",
       "    <tr style=\"text-align: right;\">\n",
       "      <th></th>\n",
       "      <th>acct_id</th>\n",
       "      <th>FICO</th>\n",
       "    </tr>\n",
       "  </thead>\n",
       "  <tbody>\n",
       "    <tr>\n",
       "      <th>0</th>\n",
       "      <td>1</td>\n",
       "      <td>768.0</td>\n",
       "    </tr>\n",
       "    <tr>\n",
       "      <th>1</th>\n",
       "      <td>2</td>\n",
       "      <td>850.0</td>\n",
       "    </tr>\n",
       "    <tr>\n",
       "      <th>2</th>\n",
       "      <td>3</td>\n",
       "      <td>677.0</td>\n",
       "    </tr>\n",
       "    <tr>\n",
       "      <th>3</th>\n",
       "      <td>4</td>\n",
       "      <td>843.0</td>\n",
       "    </tr>\n",
       "    <tr>\n",
       "      <th>4</th>\n",
       "      <td>5</td>\n",
       "      <td>796.0</td>\n",
       "    </tr>\n",
       "    <tr>\n",
       "      <th>5</th>\n",
       "      <td>6</td>\n",
       "      <td>669.0</td>\n",
       "    </tr>\n",
       "    <tr>\n",
       "      <th>6</th>\n",
       "      <td>7</td>\n",
       "      <td>805.0</td>\n",
       "    </tr>\n",
       "    <tr>\n",
       "      <th>7</th>\n",
       "      <td>8</td>\n",
       "      <td>850.0</td>\n",
       "    </tr>\n",
       "    <tr>\n",
       "      <th>8</th>\n",
       "      <td>9</td>\n",
       "      <td>838.0</td>\n",
       "    </tr>\n",
       "    <tr>\n",
       "      <th>9</th>\n",
       "      <td>10</td>\n",
       "      <td>850.0</td>\n",
       "    </tr>\n",
       "    <tr>\n",
       "      <th>10</th>\n",
       "      <td>11</td>\n",
       "      <td>Missing</td>\n",
       "    </tr>\n",
       "    <tr>\n",
       "      <th>11</th>\n",
       "      <td>12</td>\n",
       "      <td>794.0</td>\n",
       "    </tr>\n",
       "    <tr>\n",
       "      <th>12</th>\n",
       "      <td>13</td>\n",
       "      <td>832.0</td>\n",
       "    </tr>\n",
       "    <tr>\n",
       "      <th>13</th>\n",
       "      <td>14</td>\n",
       "      <td>777.0</td>\n",
       "    </tr>\n",
       "    <tr>\n",
       "      <th>14</th>\n",
       "      <td>15</td>\n",
       "      <td>809.0</td>\n",
       "    </tr>\n",
       "    <tr>\n",
       "      <th>15</th>\n",
       "      <td>16</td>\n",
       "      <td>793.0</td>\n",
       "    </tr>\n",
       "    <tr>\n",
       "      <th>16</th>\n",
       "      <td>17</td>\n",
       "      <td>746.0</td>\n",
       "    </tr>\n",
       "    <tr>\n",
       "      <th>17</th>\n",
       "      <td>18</td>\n",
       "      <td>Missing</td>\n",
       "    </tr>\n",
       "    <tr>\n",
       "      <th>18</th>\n",
       "      <td>19</td>\n",
       "      <td>781.0</td>\n",
       "    </tr>\n",
       "    <tr>\n",
       "      <th>19</th>\n",
       "      <td>20</td>\n",
       "      <td>812.0</td>\n",
       "    </tr>\n",
       "  </tbody>\n",
       "</table>\n",
       "</div>"
      ],
      "text/plain": [
       "    acct_id     FICO\n",
       "0         1    768.0\n",
       "1         2    850.0\n",
       "2         3    677.0\n",
       "3         4    843.0\n",
       "4         5    796.0\n",
       "5         6    669.0\n",
       "6         7    805.0\n",
       "7         8    850.0\n",
       "8         9    838.0\n",
       "9        10    850.0\n",
       "10       11  Missing\n",
       "11       12    794.0\n",
       "12       13    832.0\n",
       "13       14    777.0\n",
       "14       15    809.0\n",
       "15       16    793.0\n",
       "16       17    746.0\n",
       "17       18  Missing\n",
       "18       19    781.0\n",
       "19       20    812.0"
      ]
     },
     "execution_count": 37,
     "metadata": {},
     "output_type": "execute_result"
    }
   ],
   "source": [
    "df_fico.head(20)"
   ]
  },
  {
   "cell_type": "code",
   "execution_count": 38,
   "id": "f8da8f1f",
   "metadata": {},
   "outputs": [],
   "source": [
    "df_fico.drop(df_fico[df_fico['FICO'] == \"Missing\"].index, inplace = True)"
   ]
  },
  {
   "cell_type": "code",
   "execution_count": 39,
   "id": "0e2f97e5",
   "metadata": {},
   "outputs": [
    {
     "data": {
      "text/html": [
       "<div>\n",
       "<style scoped>\n",
       "    .dataframe tbody tr th:only-of-type {\n",
       "        vertical-align: middle;\n",
       "    }\n",
       "\n",
       "    .dataframe tbody tr th {\n",
       "        vertical-align: top;\n",
       "    }\n",
       "\n",
       "    .dataframe thead th {\n",
       "        text-align: right;\n",
       "    }\n",
       "</style>\n",
       "<table border=\"1\" class=\"dataframe\">\n",
       "  <thead>\n",
       "    <tr style=\"text-align: right;\">\n",
       "      <th></th>\n",
       "      <th>acct_id</th>\n",
       "      <th>FICO</th>\n",
       "    </tr>\n",
       "  </thead>\n",
       "  <tbody>\n",
       "    <tr>\n",
       "      <th>0</th>\n",
       "      <td>1</td>\n",
       "      <td>768.0</td>\n",
       "    </tr>\n",
       "    <tr>\n",
       "      <th>1</th>\n",
       "      <td>2</td>\n",
       "      <td>850.0</td>\n",
       "    </tr>\n",
       "    <tr>\n",
       "      <th>2</th>\n",
       "      <td>3</td>\n",
       "      <td>677.0</td>\n",
       "    </tr>\n",
       "    <tr>\n",
       "      <th>3</th>\n",
       "      <td>4</td>\n",
       "      <td>843.0</td>\n",
       "    </tr>\n",
       "    <tr>\n",
       "      <th>4</th>\n",
       "      <td>5</td>\n",
       "      <td>796.0</td>\n",
       "    </tr>\n",
       "  </tbody>\n",
       "</table>\n",
       "</div>"
      ],
      "text/plain": [
       "   acct_id   FICO\n",
       "0        1  768.0\n",
       "1        2  850.0\n",
       "2        3  677.0\n",
       "3        4  843.0\n",
       "4        5  796.0"
      ]
     },
     "execution_count": 39,
     "metadata": {},
     "output_type": "execute_result"
    }
   ],
   "source": [
    "df_fico.head()"
   ]
  },
  {
   "cell_type": "code",
   "execution_count": 40,
   "id": "738df584",
   "metadata": {},
   "outputs": [],
   "source": [
    "df_fico.to_csv(\"cleaned_fico_scores\")"
   ]
  },
  {
   "cell_type": "code",
   "execution_count": 41,
   "id": "d2ffb159",
   "metadata": {},
   "outputs": [
    {
     "data": {
      "text/plain": [
       "850.0    12059\n",
       "836.0      865\n",
       "845.0      836\n",
       "828.0      746\n",
       "841.0      668\n",
       "         ...  \n",
       "496.0        1\n",
       "485.0        1\n",
       "487.0        1\n",
       "488.0        1\n",
       "420.0        1\n",
       "Name: FICO, Length: 375, dtype: int64"
      ]
     },
     "execution_count": 41,
     "metadata": {},
     "output_type": "execute_result"
    }
   ],
   "source": [
    "df_fico[\"FICO\"].value_counts()"
   ]
  },
  {
   "cell_type": "code",
   "execution_count": 42,
   "id": "d59160c5",
   "metadata": {},
   "outputs": [],
   "source": [
    "histdata = df_fico[\"FICO\"]"
   ]
  },
  {
   "cell_type": "markdown",
   "id": "7ec7c9e5",
   "metadata": {},
   "source": [
    "# Q 1.3"
   ]
  },
  {
   "cell_type": "code",
   "execution_count": 43,
   "id": "9f8cfca5",
   "metadata": {},
   "outputs": [
    {
     "data": {
      "image/png": "[encoded data removed]",
      "text/plain": [
       "<Figure size 432x288 with 1 Axes>"
      ]
     },
     "metadata": {},
     "output_type": "display_data"
    }
   ],
   "source": [
    "plt.hist(histdata, bins = 20)\n",
    "plt.show()"
   ]
  },
  {
   "cell_type": "markdown",
   "id": "e9ea5cba",
   "metadata": {},
   "source": [
    "From the distribution displayed above, we can clearly note the kind of negative exponential distribution being followed by the data. And that the number of defaulters are minimal, i.e. majority id's tend to have fairly nice FICO score resulting in very less id's having a poor and fair FICO score.\n",
    "\n",
    "A large count of id's have \"exceptionally well\" FICO scores followed by id's having \"Very Good\" scores. Ranking third we have \"Good\" scores followed by \"Fair\" and \"Poor\" scores respectively.\n",
    "\n",
    "The above mentioned analysis is also evident from the count-plot displayed after few cells.\n",
    "\n",
    "Note : The above mentioned bucketing conventions are listed below along with reasoning."
   ]
  },
  {
   "cell_type": "markdown",
   "id": "e94ab418",
   "metadata": {},
   "source": [
    "# Q 1.2"
   ]
  },
  {
   "cell_type": "markdown",
   "id": "c5c114ad",
   "metadata": {},
   "source": [
    "\n",
    "\n",
    "# Reasoning:\n",
    "FICO score ranges between 300 and 850 and there are various factors involved in calculation of the FICO score like payment history, amounts Owed, length of credit history, credit mix, new credit accounting for 35%, 30%, 15%, 10% and 10% respectively.\n",
    "\n",
    "According to Forbes Advisor, FICO scores are classified into five categories that represent a consumer’s likelihood of repaying debts and the amount of risk he poses to lenders.\n",
    "\n",
    "# Excellent: 800 and above.\n",
    "# Very good: 740 to 799.\n",
    "# Good: 670 to 739.\n",
    "# Fair: 580 to 669.\n",
    "# Poor: 579 and below."
   ]
  },
  {
   "cell_type": "code",
   "execution_count": 44,
   "id": "df939c0f",
   "metadata": {},
   "outputs": [],
   "source": [
    "def bucketing(x):\n",
    "    if x>=800.0:\n",
    "        return \"Exceptional\"\n",
    "    elif x<=799.0 and x>=744.0:\n",
    "        return \"Very_Good\"\n",
    "    elif x<=739.0 and x>=670.0:\n",
    "        return \"Good\"\n",
    "    elif x<=669.0 and x>=580.0:\n",
    "        return \"Fair\"\n",
    "    elif x<=579.0:\n",
    "        return \"Poor\"\n",
    "    else:\n",
    "        return x"
   ]
  },
  {
   "cell_type": "code",
   "execution_count": 45,
   "id": "7bec6301",
   "metadata": {},
   "outputs": [],
   "source": [
    "df_fico[\"FICO\"] = df_fico[\"FICO\"].apply(bucketing)"
   ]
  },
  {
   "cell_type": "code",
   "execution_count": 46,
   "id": "c3b709f9",
   "metadata": {},
   "outputs": [],
   "source": [
    "df_fico[\"FICO\"] = df_fico[\"FICO\"].astype(str)"
   ]
  },
  {
   "cell_type": "code",
   "execution_count": 47,
   "id": "39b334c0",
   "metadata": {},
   "outputs": [
    {
     "data": {
      "text/plain": [
       "Exceptional    36928\n",
       "Very_Good      17293\n",
       "Good           10979\n",
       "Fair            3398\n",
       "Poor             753\n",
       "742.0            294\n",
       "740.0            255\n",
       "741.0            243\n",
       "743.0            243\n",
       "nan                2\n",
       "Name: FICO, dtype: int64"
      ]
     },
     "execution_count": 47,
     "metadata": {},
     "output_type": "execute_result"
    }
   ],
   "source": [
    "df_fico[\"FICO\"].value_counts()"
   ]
  },
  {
   "cell_type": "code",
   "execution_count": 48,
   "id": "7675b3df",
   "metadata": {},
   "outputs": [],
   "source": [
    "def conv(x):\n",
    "    if x ==\"742.0\":\n",
    "        return \"Very_Good\"\n",
    "    elif x ==\"740.0\":\n",
    "        return \"Very_Good\"\n",
    "    elif x ==\"741.0\":\n",
    "        return \"Very_Good\"\n",
    "    elif x ==\"743.0\":\n",
    "        return \"Very_Good\"\n",
    "    if x ==\"nan\":\n",
    "        return \"Very_Good\"\n",
    "    else: return x"
   ]
  },
  {
   "cell_type": "code",
   "execution_count": 49,
   "id": "b1844bfb",
   "metadata": {},
   "outputs": [],
   "source": [
    "df_fico[\"FICO\"] = df_fico[\"FICO\"].apply(conv)"
   ]
  },
  {
   "cell_type": "code",
   "execution_count": 50,
   "id": "9cbddf71",
   "metadata": {},
   "outputs": [
    {
     "data": {
      "text/html": [
       "<div>\n",
       "<style scoped>\n",
       "    .dataframe tbody tr th:only-of-type {\n",
       "        vertical-align: middle;\n",
       "    }\n",
       "\n",
       "    .dataframe tbody tr th {\n",
       "        vertical-align: top;\n",
       "    }\n",
       "\n",
       "    .dataframe thead th {\n",
       "        text-align: right;\n",
       "    }\n",
       "</style>\n",
       "<table border=\"1\" class=\"dataframe\">\n",
       "  <thead>\n",
       "    <tr style=\"text-align: right;\">\n",
       "      <th></th>\n",
       "      <th>acct_id</th>\n",
       "      <th>FICO</th>\n",
       "    </tr>\n",
       "  </thead>\n",
       "  <tbody>\n",
       "    <tr>\n",
       "      <th>0</th>\n",
       "      <td>1</td>\n",
       "      <td>Very_Good</td>\n",
       "    </tr>\n",
       "    <tr>\n",
       "      <th>1</th>\n",
       "      <td>2</td>\n",
       "      <td>Exceptional</td>\n",
       "    </tr>\n",
       "    <tr>\n",
       "      <th>2</th>\n",
       "      <td>3</td>\n",
       "      <td>Good</td>\n",
       "    </tr>\n",
       "    <tr>\n",
       "      <th>3</th>\n",
       "      <td>4</td>\n",
       "      <td>Exceptional</td>\n",
       "    </tr>\n",
       "    <tr>\n",
       "      <th>4</th>\n",
       "      <td>5</td>\n",
       "      <td>Very_Good</td>\n",
       "    </tr>\n",
       "  </tbody>\n",
       "</table>\n",
       "</div>"
      ],
      "text/plain": [
       "   acct_id         FICO\n",
       "0        1    Very_Good\n",
       "1        2  Exceptional\n",
       "2        3         Good\n",
       "3        4  Exceptional\n",
       "4        5    Very_Good"
      ]
     },
     "execution_count": 50,
     "metadata": {},
     "output_type": "execute_result"
    }
   ],
   "source": [
    "df_fico.head()"
   ]
  },
  {
   "cell_type": "code",
   "execution_count": 51,
   "id": "5d13ba93",
   "metadata": {},
   "outputs": [
    {
     "name": "stderr",
     "output_type": "stream",
     "text": [
      "/opt/anaconda3/lib/python3.8/site-packages/seaborn/_decorators.py:36: FutureWarning: Pass the following variable as a keyword arg: x. From version 0.12, the only valid positional argument will be `data`, and passing other arguments without an explicit keyword will result in an error or misinterpretation.\n",
      "  warnings.warn(\n"
     ]
    },
    {
     "data": {
      "image/png": "[encoded data removed]",
      "text/plain": [
       "<Figure size 432x288 with 1 Axes>"
      ]
     },
     "metadata": {},
     "output_type": "display_data"
    }
   ],
   "source": [
    "sns.countplot(df_fico[\"FICO\"])\n",
    "plt.show()"
   ]
  },
  {
   "cell_type": "code",
   "execution_count": 52,
   "id": "bf239dbc",
   "metadata": {},
   "outputs": [
    {
     "data": {
      "text/plain": [
       "Exceptional    36928\n",
       "Very_Good      18330\n",
       "Good           10979\n",
       "Fair            3398\n",
       "Poor             753\n",
       "Name: FICO, dtype: int64"
      ]
     },
     "execution_count": 52,
     "metadata": {},
     "output_type": "execute_result"
    }
   ],
   "source": [
    "df_fico[\"FICO\"].value_counts()"
   ]
  },
  {
   "cell_type": "code",
   "execution_count": 53,
   "id": "106a44e7",
   "metadata": {},
   "outputs": [
    {
     "data": {
      "text/plain": [
       "(70388, 2)"
      ]
     },
     "execution_count": 53,
     "metadata": {},
     "output_type": "execute_result"
    }
   ],
   "source": [
    "df_fico.shape"
   ]
  },
  {
   "cell_type": "code",
   "execution_count": 54,
   "id": "89f26f21",
   "metadata": {},
   "outputs": [
    {
     "name": "stdout",
     "output_type": "stream",
     "text": [
      "Number of customers being categorized into: \n",
      "Excellent FICO scores are 36928, occupying 52.46348809456157 % of total count of customers from data available (excludes missing data id's) \n",
      "Very Good FICO scores are 18330, occupying 26.041370688185484 %  of total count of customers from data available (excludes missing data id's) \n",
      "Good FICO scores are 10979, occupying 15.59782917542763 %  of total count of customers from data available (excludes missing data id's) \n",
      "Fair FICO scores are 3398, occupying 4.827527419446496 %  of total count of customers from data available (excludes missing data id's) \n",
      "Poor FICO scores are 753, occupying 1.0697846223788146 %  of total count of customers from data available (excludes missing data id's)\n"
     ]
    }
   ],
   "source": [
    "print(\"Number of customers being categorized into: \\nExcellent FICO scores are 36928, occupying\",(36928/70388)*100,\"% of total count of customers from data available (excludes missing data id's)\",\n",
    "      \"\\nVery Good FICO scores are 18330, occupying\",(18330/70388)*100,\"%\",\" of total count of customers from data available (excludes missing data id's)\",\n",
    "\"\\nGood FICO scores are 10979, occupying\",(10979/70388)*100,\"%\",\" of total count of customers from data available (excludes missing data id's)\",\n",
    "  \"\\nFair FICO scores are 3398, occupying\",(3398/70388)*100,\"%\",\" of total count of customers from data available (excludes missing data id's)\",\n",
    "     \"\\nPoor FICO scores are 753, occupying\",(753/70388)*100,\"%\",\" of total count of customers from data available (excludes missing data id's)\",)    "
   ]
  },
  {
   "cell_type": "code",
   "execution_count": 55,
   "id": "080080a8",
   "metadata": {},
   "outputs": [],
   "source": [
    "df_scores = pd.read_csv(\"cleaned_fico_scores\")"
   ]
  },
  {
   "cell_type": "code",
   "execution_count": 56,
   "id": "c89c1e98",
   "metadata": {},
   "outputs": [
    {
     "data": {
      "text/html": [
       "<div>\n",
       "<style scoped>\n",
       "    .dataframe tbody tr th:only-of-type {\n",
       "        vertical-align: middle;\n",
       "    }\n",
       "\n",
       "    .dataframe tbody tr th {\n",
       "        vertical-align: top;\n",
       "    }\n",
       "\n",
       "    .dataframe thead th {\n",
       "        text-align: right;\n",
       "    }\n",
       "</style>\n",
       "<table border=\"1\" class=\"dataframe\">\n",
       "  <thead>\n",
       "    <tr style=\"text-align: right;\">\n",
       "      <th></th>\n",
       "      <th>acct_id</th>\n",
       "      <th>region</th>\n",
       "    </tr>\n",
       "  </thead>\n",
       "  <tbody>\n",
       "    <tr>\n",
       "      <th>0</th>\n",
       "      <td>1</td>\n",
       "      <td>New York</td>\n",
       "    </tr>\n",
       "    <tr>\n",
       "      <th>1</th>\n",
       "      <td>2</td>\n",
       "      <td>Dallas</td>\n",
       "    </tr>\n",
       "    <tr>\n",
       "      <th>2</th>\n",
       "      <td>3</td>\n",
       "      <td>Los Angeles</td>\n",
       "    </tr>\n",
       "    <tr>\n",
       "      <th>3</th>\n",
       "      <td>4</td>\n",
       "      <td>Chicago</td>\n",
       "    </tr>\n",
       "    <tr>\n",
       "      <th>4</th>\n",
       "      <td>5</td>\n",
       "      <td>Philadelphia</td>\n",
       "    </tr>\n",
       "  </tbody>\n",
       "</table>\n",
       "</div>"
      ],
      "text/plain": [
       "   acct_id        region\n",
       "0        1      New York\n",
       "1        2        Dallas\n",
       "2        3   Los Angeles\n",
       "3        4       Chicago\n",
       "4        5  Philadelphia"
      ]
     },
     "execution_count": 56,
     "metadata": {},
     "output_type": "execute_result"
    }
   ],
   "source": [
    "df_region.head()"
   ]
  },
  {
   "cell_type": "code",
   "execution_count": 57,
   "id": "2c4f2d74",
   "metadata": {},
   "outputs": [],
   "source": [
    "temp_inner= pd.merge(df_scores, df_region, on='acct_id', how='inner') "
   ]
  },
  {
   "cell_type": "code",
   "execution_count": 58,
   "id": "9183bcd8",
   "metadata": {},
   "outputs": [
    {
     "data": {
      "text/plain": [
       "Unnamed: 0    0\n",
       "acct_id       0\n",
       "FICO          2\n",
       "region        0\n",
       "dtype: int64"
      ]
     },
     "execution_count": 58,
     "metadata": {},
     "output_type": "execute_result"
    }
   ],
   "source": [
    "temp_inner.isna().sum()"
   ]
  },
  {
   "cell_type": "code",
   "execution_count": 59,
   "id": "4833f1c8",
   "metadata": {},
   "outputs": [
    {
     "data": {
      "text/plain": [
       "Unnamed: 0    0\n",
       "acct_id       0\n",
       "FICO          2\n",
       "region        0\n",
       "dtype: int64"
      ]
     },
     "execution_count": 59,
     "metadata": {},
     "output_type": "execute_result"
    }
   ],
   "source": [
    "temp_inner.isna().sum()"
   ]
  },
  {
   "cell_type": "code",
   "execution_count": 60,
   "id": "3153cd43",
   "metadata": {},
   "outputs": [
    {
     "data": {
      "text/html": [
       "<div>\n",
       "<style scoped>\n",
       "    .dataframe tbody tr th:only-of-type {\n",
       "        vertical-align: middle;\n",
       "    }\n",
       "\n",
       "    .dataframe tbody tr th {\n",
       "        vertical-align: top;\n",
       "    }\n",
       "\n",
       "    .dataframe thead th {\n",
       "        text-align: right;\n",
       "    }\n",
       "</style>\n",
       "<table border=\"1\" class=\"dataframe\">\n",
       "  <thead>\n",
       "    <tr style=\"text-align: right;\">\n",
       "      <th></th>\n",
       "      <th>Unnamed: 0</th>\n",
       "      <th>acct_id</th>\n",
       "      <th>FICO</th>\n",
       "      <th>region</th>\n",
       "    </tr>\n",
       "  </thead>\n",
       "  <tbody>\n",
       "    <tr>\n",
       "      <th>0</th>\n",
       "      <td>0</td>\n",
       "      <td>1</td>\n",
       "      <td>768.0</td>\n",
       "      <td>New York</td>\n",
       "    </tr>\n",
       "    <tr>\n",
       "      <th>1</th>\n",
       "      <td>1</td>\n",
       "      <td>2</td>\n",
       "      <td>850.0</td>\n",
       "      <td>Dallas</td>\n",
       "    </tr>\n",
       "    <tr>\n",
       "      <th>2</th>\n",
       "      <td>2</td>\n",
       "      <td>3</td>\n",
       "      <td>677.0</td>\n",
       "      <td>Los Angeles</td>\n",
       "    </tr>\n",
       "    <tr>\n",
       "      <th>3</th>\n",
       "      <td>3</td>\n",
       "      <td>4</td>\n",
       "      <td>843.0</td>\n",
       "      <td>Chicago</td>\n",
       "    </tr>\n",
       "    <tr>\n",
       "      <th>4</th>\n",
       "      <td>4</td>\n",
       "      <td>5</td>\n",
       "      <td>796.0</td>\n",
       "      <td>Philadelphia</td>\n",
       "    </tr>\n",
       "  </tbody>\n",
       "</table>\n",
       "</div>"
      ],
      "text/plain": [
       "   Unnamed: 0  acct_id   FICO        region\n",
       "0           0        1  768.0      New York\n",
       "1           1        2  850.0        Dallas\n",
       "2           2        3  677.0   Los Angeles\n",
       "3           3        4  843.0       Chicago\n",
       "4           4        5  796.0  Philadelphia"
      ]
     },
     "execution_count": 60,
     "metadata": {},
     "output_type": "execute_result"
    }
   ],
   "source": [
    "temp_inner.head()"
   ]
  },
  {
   "cell_type": "code",
   "execution_count": 61,
   "id": "d3ab85df",
   "metadata": {},
   "outputs": [],
   "source": [
    "temp_inner.drop(columns=temp_inner.columns[0], axis=1, inplace=True)"
   ]
  },
  {
   "cell_type": "code",
   "execution_count": 62,
   "id": "14792cce",
   "metadata": {},
   "outputs": [
    {
     "data": {
      "text/html": [
       "<div>\n",
       "<style scoped>\n",
       "    .dataframe tbody tr th:only-of-type {\n",
       "        vertical-align: middle;\n",
       "    }\n",
       "\n",
       "    .dataframe tbody tr th {\n",
       "        vertical-align: top;\n",
       "    }\n",
       "\n",
       "    .dataframe thead th {\n",
       "        text-align: right;\n",
       "    }\n",
       "</style>\n",
       "<table border=\"1\" class=\"dataframe\">\n",
       "  <thead>\n",
       "    <tr style=\"text-align: right;\">\n",
       "      <th></th>\n",
       "      <th>acct_id</th>\n",
       "      <th>FICO</th>\n",
       "      <th>region</th>\n",
       "    </tr>\n",
       "  </thead>\n",
       "  <tbody>\n",
       "    <tr>\n",
       "      <th>25</th>\n",
       "      <td>27</td>\n",
       "      <td>534.0</td>\n",
       "      <td>Los Angeles</td>\n",
       "    </tr>\n",
       "    <tr>\n",
       "      <th>1208</th>\n",
       "      <td>2575</td>\n",
       "      <td>573.0</td>\n",
       "      <td>Los Angeles</td>\n",
       "    </tr>\n",
       "    <tr>\n",
       "      <th>2082</th>\n",
       "      <td>5011</td>\n",
       "      <td>573.0</td>\n",
       "      <td>Los Angeles</td>\n",
       "    </tr>\n",
       "    <tr>\n",
       "      <th>2640</th>\n",
       "      <td>5737</td>\n",
       "      <td>550.0</td>\n",
       "      <td>Los Angeles</td>\n",
       "    </tr>\n",
       "    <tr>\n",
       "      <th>3113</th>\n",
       "      <td>6291</td>\n",
       "      <td>605.0</td>\n",
       "      <td>Los Angeles</td>\n",
       "    </tr>\n",
       "    <tr>\n",
       "      <th>4299</th>\n",
       "      <td>7673</td>\n",
       "      <td>601.0</td>\n",
       "      <td>Los Angeles</td>\n",
       "    </tr>\n",
       "    <tr>\n",
       "      <th>5156</th>\n",
       "      <td>8661</td>\n",
       "      <td>605.0</td>\n",
       "      <td>Los Angeles</td>\n",
       "    </tr>\n",
       "    <tr>\n",
       "      <th>6542</th>\n",
       "      <td>10318</td>\n",
       "      <td>576.0</td>\n",
       "      <td>Los Angeles</td>\n",
       "    </tr>\n",
       "    <tr>\n",
       "      <th>7353</th>\n",
       "      <td>11283</td>\n",
       "      <td>552.0</td>\n",
       "      <td>Los Angeles</td>\n",
       "    </tr>\n",
       "    <tr>\n",
       "      <th>8393</th>\n",
       "      <td>13304</td>\n",
       "      <td>570.0</td>\n",
       "      <td>Los Angeles</td>\n",
       "    </tr>\n",
       "    <tr>\n",
       "      <th>8794</th>\n",
       "      <td>14512</td>\n",
       "      <td>585.0</td>\n",
       "      <td>Los Angeles</td>\n",
       "    </tr>\n",
       "    <tr>\n",
       "      <th>9088</th>\n",
       "      <td>15289</td>\n",
       "      <td>581.0</td>\n",
       "      <td>Los Angeles</td>\n",
       "    </tr>\n",
       "    <tr>\n",
       "      <th>9321</th>\n",
       "      <td>15973</td>\n",
       "      <td>541.0</td>\n",
       "      <td>Los Angeles</td>\n",
       "    </tr>\n",
       "    <tr>\n",
       "      <th>9333</th>\n",
       "      <td>16011</td>\n",
       "      <td>523.0</td>\n",
       "      <td>Los Angeles</td>\n",
       "    </tr>\n",
       "    <tr>\n",
       "      <th>11428</th>\n",
       "      <td>18653</td>\n",
       "      <td>557.0</td>\n",
       "      <td>Los Angeles</td>\n",
       "    </tr>\n",
       "    <tr>\n",
       "      <th>11970</th>\n",
       "      <td>19328</td>\n",
       "      <td>600.0</td>\n",
       "      <td>Los Angeles</td>\n",
       "    </tr>\n",
       "    <tr>\n",
       "      <th>12061</th>\n",
       "      <td>19432</td>\n",
       "      <td>509.0</td>\n",
       "      <td>Los Angeles</td>\n",
       "    </tr>\n",
       "    <tr>\n",
       "      <th>12540</th>\n",
       "      <td>20017</td>\n",
       "      <td>518.0</td>\n",
       "      <td>Los Angeles</td>\n",
       "    </tr>\n",
       "    <tr>\n",
       "      <th>12580</th>\n",
       "      <td>20065</td>\n",
       "      <td>603.0</td>\n",
       "      <td>Los Angeles</td>\n",
       "    </tr>\n",
       "    <tr>\n",
       "      <th>13570</th>\n",
       "      <td>21261</td>\n",
       "      <td>606.0</td>\n",
       "      <td>Los Angeles</td>\n",
       "    </tr>\n",
       "    <tr>\n",
       "      <th>13755</th>\n",
       "      <td>21469</td>\n",
       "      <td>555.0</td>\n",
       "      <td>Los Angeles</td>\n",
       "    </tr>\n",
       "    <tr>\n",
       "      <th>14197</th>\n",
       "      <td>21990</td>\n",
       "      <td>566.0</td>\n",
       "      <td>Los Angeles</td>\n",
       "    </tr>\n",
       "    <tr>\n",
       "      <th>14226</th>\n",
       "      <td>22021</td>\n",
       "      <td>503.0</td>\n",
       "      <td>Los Angeles</td>\n",
       "    </tr>\n",
       "    <tr>\n",
       "      <th>14635</th>\n",
       "      <td>22511</td>\n",
       "      <td>595.0</td>\n",
       "      <td>Los Angeles</td>\n",
       "    </tr>\n",
       "    <tr>\n",
       "      <th>16346</th>\n",
       "      <td>24599</td>\n",
       "      <td>604.0</td>\n",
       "      <td>Los Angeles</td>\n",
       "    </tr>\n",
       "    <tr>\n",
       "      <th>16639</th>\n",
       "      <td>24955</td>\n",
       "      <td>535.0</td>\n",
       "      <td>Los Angeles</td>\n",
       "    </tr>\n",
       "    <tr>\n",
       "      <th>17730</th>\n",
       "      <td>26234</td>\n",
       "      <td>592.0</td>\n",
       "      <td>Los Angeles</td>\n",
       "    </tr>\n",
       "    <tr>\n",
       "      <th>18032</th>\n",
       "      <td>26591</td>\n",
       "      <td>549.0</td>\n",
       "      <td>Los Angeles</td>\n",
       "    </tr>\n",
       "    <tr>\n",
       "      <th>19043</th>\n",
       "      <td>27769</td>\n",
       "      <td>598.0</td>\n",
       "      <td>Los Angeles</td>\n",
       "    </tr>\n",
       "    <tr>\n",
       "      <th>19297</th>\n",
       "      <td>28081</td>\n",
       "      <td>533.0</td>\n",
       "      <td>Los Angeles</td>\n",
       "    </tr>\n",
       "    <tr>\n",
       "      <th>22495</th>\n",
       "      <td>34438</td>\n",
       "      <td>589.0</td>\n",
       "      <td>Los Angeles</td>\n",
       "    </tr>\n",
       "    <tr>\n",
       "      <th>22685</th>\n",
       "      <td>34774</td>\n",
       "      <td>542.0</td>\n",
       "      <td>Los Angeles</td>\n",
       "    </tr>\n",
       "    <tr>\n",
       "      <th>23059</th>\n",
       "      <td>35233</td>\n",
       "      <td>546.0</td>\n",
       "      <td>Los Angeles</td>\n",
       "    </tr>\n",
       "    <tr>\n",
       "      <th>23406</th>\n",
       "      <td>35638</td>\n",
       "      <td>493.0</td>\n",
       "      <td>Los Angeles</td>\n",
       "    </tr>\n",
       "    <tr>\n",
       "      <th>23444</th>\n",
       "      <td>35680</td>\n",
       "      <td>579.0</td>\n",
       "      <td>Los Angeles</td>\n",
       "    </tr>\n",
       "    <tr>\n",
       "      <th>23451</th>\n",
       "      <td>35688</td>\n",
       "      <td>548.0</td>\n",
       "      <td>Los Angeles</td>\n",
       "    </tr>\n",
       "    <tr>\n",
       "      <th>23688</th>\n",
       "      <td>35969</td>\n",
       "      <td>557.0</td>\n",
       "      <td>Los Angeles</td>\n",
       "    </tr>\n",
       "    <tr>\n",
       "      <th>24086</th>\n",
       "      <td>36435</td>\n",
       "      <td>586.0</td>\n",
       "      <td>Los Angeles</td>\n",
       "    </tr>\n",
       "    <tr>\n",
       "      <th>24359</th>\n",
       "      <td>36763</td>\n",
       "      <td>584.0</td>\n",
       "      <td>Los Angeles</td>\n",
       "    </tr>\n",
       "    <tr>\n",
       "      <th>24669</th>\n",
       "      <td>37134</td>\n",
       "      <td>535.0</td>\n",
       "      <td>Los Angeles</td>\n",
       "    </tr>\n",
       "    <tr>\n",
       "      <th>24945</th>\n",
       "      <td>37460</td>\n",
       "      <td>588.0</td>\n",
       "      <td>Los Angeles</td>\n",
       "    </tr>\n",
       "    <tr>\n",
       "      <th>25131</th>\n",
       "      <td>37673</td>\n",
       "      <td>600.0</td>\n",
       "      <td>Los Angeles</td>\n",
       "    </tr>\n",
       "    <tr>\n",
       "      <th>26037</th>\n",
       "      <td>38701</td>\n",
       "      <td>584.0</td>\n",
       "      <td>Los Angeles</td>\n",
       "    </tr>\n",
       "    <tr>\n",
       "      <th>27682</th>\n",
       "      <td>40656</td>\n",
       "      <td>586.0</td>\n",
       "      <td>Los Angeles</td>\n",
       "    </tr>\n",
       "    <tr>\n",
       "      <th>28265</th>\n",
       "      <td>41350</td>\n",
       "      <td>606.0</td>\n",
       "      <td>Los Angeles</td>\n",
       "    </tr>\n",
       "    <tr>\n",
       "      <th>28466</th>\n",
       "      <td>41590</td>\n",
       "      <td>560.0</td>\n",
       "      <td>Los Angeles</td>\n",
       "    </tr>\n",
       "    <tr>\n",
       "      <th>29274</th>\n",
       "      <td>42537</td>\n",
       "      <td>579.0</td>\n",
       "      <td>Los Angeles</td>\n",
       "    </tr>\n",
       "    <tr>\n",
       "      <th>30047</th>\n",
       "      <td>43434</td>\n",
       "      <td>561.0</td>\n",
       "      <td>Los Angeles</td>\n",
       "    </tr>\n",
       "    <tr>\n",
       "      <th>30443</th>\n",
       "      <td>43880</td>\n",
       "      <td>575.0</td>\n",
       "      <td>Los Angeles</td>\n",
       "    </tr>\n",
       "  </tbody>\n",
       "</table>\n",
       "</div>"
      ],
      "text/plain": [
       "       acct_id   FICO       region\n",
       "25          27  534.0  Los Angeles\n",
       "1208      2575  573.0  Los Angeles\n",
       "2082      5011  573.0  Los Angeles\n",
       "2640      5737  550.0  Los Angeles\n",
       "3113      6291  605.0  Los Angeles\n",
       "4299      7673  601.0  Los Angeles\n",
       "5156      8661  605.0  Los Angeles\n",
       "6542     10318  576.0  Los Angeles\n",
       "7353     11283  552.0  Los Angeles\n",
       "8393     13304  570.0  Los Angeles\n",
       "8794     14512  585.0  Los Angeles\n",
       "9088     15289  581.0  Los Angeles\n",
       "9321     15973  541.0  Los Angeles\n",
       "9333     16011  523.0  Los Angeles\n",
       "11428    18653  557.0  Los Angeles\n",
       "11970    19328  600.0  Los Angeles\n",
       "12061    19432  509.0  Los Angeles\n",
       "12540    20017  518.0  Los Angeles\n",
       "12580    20065  603.0  Los Angeles\n",
       "13570    21261  606.0  Los Angeles\n",
       "13755    21469  555.0  Los Angeles\n",
       "14197    21990  566.0  Los Angeles\n",
       "14226    22021  503.0  Los Angeles\n",
       "14635    22511  595.0  Los Angeles\n",
       "16346    24599  604.0  Los Angeles\n",
       "16639    24955  535.0  Los Angeles\n",
       "17730    26234  592.0  Los Angeles\n",
       "18032    26591  549.0  Los Angeles\n",
       "19043    27769  598.0  Los Angeles\n",
       "19297    28081  533.0  Los Angeles\n",
       "22495    34438  589.0  Los Angeles\n",
       "22685    34774  542.0  Los Angeles\n",
       "23059    35233  546.0  Los Angeles\n",
       "23406    35638  493.0  Los Angeles\n",
       "23444    35680  579.0  Los Angeles\n",
       "23451    35688  548.0  Los Angeles\n",
       "23688    35969  557.0  Los Angeles\n",
       "24086    36435  586.0  Los Angeles\n",
       "24359    36763  584.0  Los Angeles\n",
       "24669    37134  535.0  Los Angeles\n",
       "24945    37460  588.0  Los Angeles\n",
       "25131    37673  600.0  Los Angeles\n",
       "26037    38701  584.0  Los Angeles\n",
       "27682    40656  586.0  Los Angeles\n",
       "28265    41350  606.0  Los Angeles\n",
       "28466    41590  560.0  Los Angeles\n",
       "29274    42537  579.0  Los Angeles\n",
       "30047    43434  561.0  Los Angeles\n",
       "30443    43880  575.0  Los Angeles"
      ]
     },
     "execution_count": 62,
     "metadata": {},
     "output_type": "execute_result"
    }
   ],
   "source": [
    "temp_inner.loc[temp_inner.duplicated(), :]"
   ]
  },
  {
   "cell_type": "code",
   "execution_count": 63,
   "id": "7bf6f431",
   "metadata": {},
   "outputs": [],
   "source": [
    "temp_inner.drop_duplicates(inplace=True)"
   ]
  },
  {
   "cell_type": "code",
   "execution_count": 64,
   "id": "eeff1326",
   "metadata": {},
   "outputs": [
    {
     "data": {
      "text/plain": [
       "acct_id  FICO   region      \n",
       "1        768.0  New York        1\n",
       "66319    743.0  Dallas          1\n",
       "66325    850.0  Chicago         1\n",
       "66324    838.0  Philadelphia    1\n",
       "66323    836.0  Charlotte       1\n",
       "                               ..\n",
       "35799    849.0  Houston         1\n",
       "35800    811.0  Philadelphia    1\n",
       "35801    720.0  Chicago         1\n",
       "35803    743.0  Houston         1\n",
       "99992    850.0  Los Angeles     1\n",
       "Length: 70510, dtype: int64"
      ]
     },
     "execution_count": 64,
     "metadata": {},
     "output_type": "execute_result"
    }
   ],
   "source": [
    "temp_inner.value_counts()"
   ]
  },
  {
   "cell_type": "code",
   "execution_count": 65,
   "id": "7d4693c3",
   "metadata": {},
   "outputs": [
    {
     "data": {
      "text/plain": [
       "(70512, 3)"
      ]
     },
     "execution_count": 65,
     "metadata": {},
     "output_type": "execute_result"
    }
   ],
   "source": [
    "temp_inner.shape"
   ]
  },
  {
   "cell_type": "code",
   "execution_count": 66,
   "id": "8e1875c1",
   "metadata": {},
   "outputs": [],
   "source": [
    "temp = temp_inner"
   ]
  },
  {
   "cell_type": "code",
   "execution_count": 67,
   "id": "66527af6",
   "metadata": {},
   "outputs": [],
   "source": [
    "temp = temp.dropna()"
   ]
  },
  {
   "cell_type": "markdown",
   "id": "b625636c",
   "metadata": {},
   "source": [
    "# Q 2.1"
   ]
  },
  {
   "cell_type": "code",
   "execution_count": 68,
   "id": "f2ee03be",
   "metadata": {},
   "outputs": [
    {
     "data": {
      "text/html": [
       "<div>\n",
       "<style scoped>\n",
       "    .dataframe tbody tr th:only-of-type {\n",
       "        vertical-align: middle;\n",
       "    }\n",
       "\n",
       "    .dataframe tbody tr th {\n",
       "        vertical-align: top;\n",
       "    }\n",
       "\n",
       "    .dataframe thead th {\n",
       "        text-align: right;\n",
       "    }\n",
       "</style>\n",
       "<table border=\"1\" class=\"dataframe\">\n",
       "  <thead>\n",
       "    <tr style=\"text-align: right;\">\n",
       "      <th></th>\n",
       "      <th>acct_id</th>\n",
       "      <th>FICO</th>\n",
       "      <th>region</th>\n",
       "    </tr>\n",
       "  </thead>\n",
       "  <tbody>\n",
       "    <tr>\n",
       "      <th>0</th>\n",
       "      <td>1</td>\n",
       "      <td>768.0</td>\n",
       "      <td>New York</td>\n",
       "    </tr>\n",
       "    <tr>\n",
       "      <th>1</th>\n",
       "      <td>2</td>\n",
       "      <td>850.0</td>\n",
       "      <td>Dallas</td>\n",
       "    </tr>\n",
       "    <tr>\n",
       "      <th>2</th>\n",
       "      <td>3</td>\n",
       "      <td>677.0</td>\n",
       "      <td>Los Angeles</td>\n",
       "    </tr>\n",
       "    <tr>\n",
       "      <th>3</th>\n",
       "      <td>4</td>\n",
       "      <td>843.0</td>\n",
       "      <td>Chicago</td>\n",
       "    </tr>\n",
       "    <tr>\n",
       "      <th>4</th>\n",
       "      <td>5</td>\n",
       "      <td>796.0</td>\n",
       "      <td>Philadelphia</td>\n",
       "    </tr>\n",
       "    <tr>\n",
       "      <th>...</th>\n",
       "      <td>...</td>\n",
       "      <td>...</td>\n",
       "      <td>...</td>\n",
       "    </tr>\n",
       "    <tr>\n",
       "      <th>70555</th>\n",
       "      <td>99986</td>\n",
       "      <td>836.0</td>\n",
       "      <td>Phoenix</td>\n",
       "    </tr>\n",
       "    <tr>\n",
       "      <th>70556</th>\n",
       "      <td>99987</td>\n",
       "      <td>850.0</td>\n",
       "      <td>Los Angeles</td>\n",
       "    </tr>\n",
       "    <tr>\n",
       "      <th>70557</th>\n",
       "      <td>99989</td>\n",
       "      <td>850.0</td>\n",
       "      <td>Los Angeles</td>\n",
       "    </tr>\n",
       "    <tr>\n",
       "      <th>70558</th>\n",
       "      <td>99990</td>\n",
       "      <td>830.0</td>\n",
       "      <td>Chicago</td>\n",
       "    </tr>\n",
       "    <tr>\n",
       "      <th>70559</th>\n",
       "      <td>99992</td>\n",
       "      <td>850.0</td>\n",
       "      <td>Los Angeles</td>\n",
       "    </tr>\n",
       "  </tbody>\n",
       "</table>\n",
       "<p>70510 rows × 3 columns</p>\n",
       "</div>"
      ],
      "text/plain": [
       "       acct_id   FICO        region\n",
       "0            1  768.0      New York\n",
       "1            2  850.0        Dallas\n",
       "2            3  677.0   Los Angeles\n",
       "3            4  843.0       Chicago\n",
       "4            5  796.0  Philadelphia\n",
       "...        ...    ...           ...\n",
       "70555    99986  836.0       Phoenix\n",
       "70556    99987  850.0   Los Angeles\n",
       "70557    99989  850.0   Los Angeles\n",
       "70558    99990  830.0       Chicago\n",
       "70559    99992  850.0   Los Angeles\n",
       "\n",
       "[70510 rows x 3 columns]"
      ]
     },
     "execution_count": 68,
     "metadata": {},
     "output_type": "execute_result"
    }
   ],
   "source": [
    "temp"
   ]
  },
  {
   "cell_type": "code",
   "execution_count": 69,
   "id": "0621dec2",
   "metadata": {},
   "outputs": [],
   "source": [
    "avg = temp.groupby('region').mean()"
   ]
  },
  {
   "cell_type": "code",
   "execution_count": 70,
   "id": "c6dba088",
   "metadata": {},
   "outputs": [
    {
     "data": {
      "text/html": [
       "<div>\n",
       "<style scoped>\n",
       "    .dataframe tbody tr th:only-of-type {\n",
       "        vertical-align: middle;\n",
       "    }\n",
       "\n",
       "    .dataframe tbody tr th {\n",
       "        vertical-align: top;\n",
       "    }\n",
       "\n",
       "    .dataframe thead th {\n",
       "        text-align: right;\n",
       "    }\n",
       "</style>\n",
       "<table border=\"1\" class=\"dataframe\">\n",
       "  <thead>\n",
       "    <tr style=\"text-align: right;\">\n",
       "      <th></th>\n",
       "      <th>acct_id</th>\n",
       "      <th>FICO</th>\n",
       "    </tr>\n",
       "    <tr>\n",
       "      <th>region</th>\n",
       "      <th></th>\n",
       "      <th></th>\n",
       "    </tr>\n",
       "  </thead>\n",
       "  <tbody>\n",
       "    <tr>\n",
       "      <th>Charlotte</th>\n",
       "      <td>50320.351572</td>\n",
       "      <td>785.154280</td>\n",
       "    </tr>\n",
       "    <tr>\n",
       "      <th>Chicago</th>\n",
       "      <td>49723.128320</td>\n",
       "      <td>785.643043</td>\n",
       "    </tr>\n",
       "    <tr>\n",
       "      <th>Dallas</th>\n",
       "      <td>50248.634126</td>\n",
       "      <td>782.102021</td>\n",
       "    </tr>\n",
       "    <tr>\n",
       "      <th>Houston</th>\n",
       "      <td>50406.506440</td>\n",
       "      <td>786.005803</td>\n",
       "    </tr>\n",
       "    <tr>\n",
       "      <th>Los Angeles</th>\n",
       "      <td>50582.031080</td>\n",
       "      <td>787.223002</td>\n",
       "    </tr>\n",
       "    <tr>\n",
       "      <th>New York</th>\n",
       "      <td>50181.051336</td>\n",
       "      <td>785.065903</td>\n",
       "    </tr>\n",
       "    <tr>\n",
       "      <th>Philadelphia</th>\n",
       "      <td>50416.117249</td>\n",
       "      <td>785.773845</td>\n",
       "    </tr>\n",
       "    <tr>\n",
       "      <th>Phoenix</th>\n",
       "      <td>50986.812660</td>\n",
       "      <td>788.170231</td>\n",
       "    </tr>\n",
       "    <tr>\n",
       "      <th>San Antonio</th>\n",
       "      <td>50401.320351</td>\n",
       "      <td>784.508277</td>\n",
       "    </tr>\n",
       "    <tr>\n",
       "      <th>San Diego</th>\n",
       "      <td>49573.703714</td>\n",
       "      <td>784.076447</td>\n",
       "    </tr>\n",
       "  </tbody>\n",
       "</table>\n",
       "</div>"
      ],
      "text/plain": [
       "                   acct_id        FICO\n",
       "region                                \n",
       "Charlotte     50320.351572  785.154280\n",
       "Chicago       49723.128320  785.643043\n",
       "Dallas        50248.634126  782.102021\n",
       "Houston       50406.506440  786.005803\n",
       "Los Angeles   50582.031080  787.223002\n",
       "New York      50181.051336  785.065903\n",
       "Philadelphia  50416.117249  785.773845\n",
       "Phoenix       50986.812660  788.170231\n",
       "San Antonio   50401.320351  784.508277\n",
       "San Diego     49573.703714  784.076447"
      ]
     },
     "execution_count": 70,
     "metadata": {},
     "output_type": "execute_result"
    }
   ],
   "source": [
    "avg"
   ]
  },
  {
   "cell_type": "code",
   "execution_count": 71,
   "id": "5b71208f",
   "metadata": {},
   "outputs": [],
   "source": [
    "avg.drop(columns=[\"acct_id\"], inplace=True)"
   ]
  },
  {
   "cell_type": "markdown",
   "id": "c64e06b6",
   "metadata": {},
   "source": [
    "# Q 2.2"
   ]
  },
  {
   "cell_type": "code",
   "execution_count": 72,
   "id": "074082de",
   "metadata": {},
   "outputs": [
    {
     "data": {
      "text/html": [
       "<div>\n",
       "<style scoped>\n",
       "    .dataframe tbody tr th:only-of-type {\n",
       "        vertical-align: middle;\n",
       "    }\n",
       "\n",
       "    .dataframe tbody tr th {\n",
       "        vertical-align: top;\n",
       "    }\n",
       "\n",
       "    .dataframe thead th {\n",
       "        text-align: right;\n",
       "    }\n",
       "</style>\n",
       "<table border=\"1\" class=\"dataframe\">\n",
       "  <thead>\n",
       "    <tr style=\"text-align: right;\">\n",
       "      <th></th>\n",
       "      <th>FICO</th>\n",
       "    </tr>\n",
       "    <tr>\n",
       "      <th>region</th>\n",
       "      <th></th>\n",
       "    </tr>\n",
       "  </thead>\n",
       "  <tbody>\n",
       "    <tr>\n",
       "      <th>Chicago</th>\n",
       "      <td>785.643043</td>\n",
       "    </tr>\n",
       "    <tr>\n",
       "      <th>San Diego</th>\n",
       "      <td>784.076447</td>\n",
       "    </tr>\n",
       "  </tbody>\n",
       "</table>\n",
       "</div>"
      ],
      "text/plain": [
       "                 FICO\n",
       "region               \n",
       "Chicago    785.643043\n",
       "San Diego  784.076447"
      ]
     },
     "execution_count": 72,
     "metadata": {},
     "output_type": "execute_result"
    }
   ],
   "source": [
    "avg.loc[[\"Chicago\",\"San Diego\"]]"
   ]
  },
  {
   "cell_type": "code",
   "execution_count": null,
   "id": "92581807",
   "metadata": {},
   "outputs": [],
   "source": []
  },
  {
   "cell_type": "code",
   "execution_count": null,
   "id": "b4ae93c9",
   "metadata": {},
   "outputs": [],
   "source": []
  }
 ],
 "metadata": {
  "kernelspec": {
   "display_name": "Python 3",
   "language": "python",
   "name": "python3"
  },
  "language_info": {
   "codemirror_mode": {
    "name": "ipython",
    "version": 3
   },
   "file_extension": ".py",
   "mimetype": "text/x-python",
   "name": "python",
   "nbconvert_exporter": "python",
   "pygments_lexer": "ipython3",
   "version": "3.8.8"
  }
 },
 "nbformat": 4,
 "nbformat_minor": 5
}
